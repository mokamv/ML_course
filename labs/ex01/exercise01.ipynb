{
 "cells": [
  {
   "cell_type": "code",
   "execution_count": 166,
   "id": "87b7295a",
   "metadata": {},
   "outputs": [],
   "source": [
    "import numpy as np\n",
    "from scipy.fftpack import fft\n",
    "import matplotlib.pyplot as plt\n",
    "from scipy import linalg"
   ]
  },
  {
   "cell_type": "code",
   "execution_count": 112,
   "id": "c270be81",
   "metadata": {},
   "outputs": [],
   "source": [
    "def mean (data):\n",
    "    data = np.array(data)\n",
    "    return np.sum(data) / data.size\n",
    "\n",
    "def standard_deviation (data):\n",
    "    m = mean(data)\n",
    "    square_dist = 0\n",
    "    data = np.array(data).flatten()\n",
    "    for i in range (len(data)) : \n",
    "        square_dist += (data[i] - m)**2\n",
    "    return np.sqrt( square_dist / (data.size - 1))\n",
    "\n",
    "def matrix_standardization( data ):\n",
    "    m = mean(data)\n",
    "    sd = standard_deviation(data)\n",
    "    return (data-m)/sd"
   ]
  },
  {
   "cell_type": "code",
   "execution_count": 116,
   "id": "57a2abd6",
   "metadata": {},
   "outputs": [
    {
     "name": "stdout",
     "output_type": "stream",
     "text": [
      "400\n"
     ]
    },
    {
     "data": {
      "image/png": "[encoded data removed]",
      "text/plain": [
       "<Figure size 640x480 with 1 Axes>"
      ]
     },
     "metadata": {},
     "output_type": "display_data"
    }
   ],
   "source": [
    "X = np.random.rand(100, 4)\n",
    "\n",
    "print(X.size)\n",
    "\n",
    "plt.hist(fft(X).real)\n",
    "plt.show()"
   ]
  },
  {
   "cell_type": "markdown",
   "id": "7a3772e2",
   "metadata": {},
   "source": []
  },
  {
   "cell_type": "code",
   "execution_count": 115,
   "id": "eef4200a",
   "metadata": {},
   "outputs": [
    {
     "data": {
      "image/png": "[encoded data removed]",
      "text/plain": [
       "<Figure size 640x480 with 1 Axes>"
      ]
     },
     "metadata": {},
     "output_type": "display_data"
    }
   ],
   "source": [
    "X_trans = matrix_standardization(X)\n",
    "\n",
    "plt.hist(X_trans)\n",
    "plt.show()"
   ]
  },
  {
   "cell_type": "markdown",
   "id": "be677801",
   "metadata": {},
   "source": [
    "## Task B: Pairwise Distances in the Plane"
   ]
  },
  {
   "cell_type": "markdown",
   "id": "6d15a7d0",
   "metadata": {},
   "source": []
  },
  {
   "cell_type": "code",
   "execution_count": 163,
   "id": "c94002da",
   "metadata": {},
   "outputs": [
    {
     "data": {
      "image/png": "[encoded data removed]",
      "text/plain": [
       "<Figure size 640x480 with 1 Axes>"
      ]
     },
     "metadata": {},
     "output_type": "display_data"
    }
   ],
   "source": [
    "P = np.random.rand(3, 2)*5\n",
    "Q = np.random.rand(4, 2)*5\n",
    "\n",
    "plt.scatter(P[:, 0], P[:,1])\n",
    "plt.scatter(Q[:, 0], Q[:,1])\n",
    "plt.show()"
   ]
  },
  {
   "cell_type": "code",
   "execution_count": 164,
   "id": "d697cb8e",
   "metadata": {},
   "outputs": [
    {
     "data": {
      "text/plain": [
       "array([[5.41912412, 4.57181959, 4.71932407, 3.59115041],\n",
       "       [4.52147445, 5.62765048, 3.51123493, 4.43290745],\n",
       "       [2.66877798, 4.22270468, 1.80827023, 3.2923774 ]])"
      ]
     },
     "execution_count": 164,
     "metadata": {},
     "output_type": "execute_result"
    }
   ],
   "source": [
    "# Calculate distances\n",
    "def calculate_distances( M1, M2 ):\n",
    "    D = np.zeros((M1.shape[0], M2.shape[0]))\n",
    "    for i in range (D.shape[0]):\n",
    "        for j in range(D.shape[1]):\n",
    "            D[i][j] = np.sqrt((M1[i][0]-M2[j][0])**2 + (M1[i][1]-M2[j][1])**2)\n",
    "    return D\n",
    "\n",
    "calculate_distances(P, Q)"
   ]
  },
  {
   "cell_type": "markdown",
   "id": "83bcacf8",
   "metadata": {},
   "source": [
    "## Task C"
   ]
  },
  {
   "cell_type": "code",
   "execution_count": 173,
   "id": "2a45a070",
   "metadata": {},
   "outputs": [],
   "source": [
    "def posteriori(x_n, mu, epsilon, d):\n",
    "    diff = x_n - mu\n",
    "    exponent = -0.5 * diff.T @ np.linalg.inv(epsilon) @ diff\n",
    "    denominator = ((2 * np.pi) ** (d / 2)) * (np.linalg.det(epsilon) ** 0.5)\n",
    "    return np.exp(exponent) / denominator"
   ]
  },
  {
   "cell_type": "code",
   "execution_count": 174,
   "id": "0e832fb2",
   "metadata": {},
   "outputs": [],
   "source": [
    "def maximum_likelihood(x_n, d, mu_1, epsilon_1, mu_2, epsilon_2):\n",
    "    if posteriori(x_n, mu_1, epsilon_1, d) > posteriori(x_n, mu_2, epsilon_2, d):\n",
    "        return 1\n",
    "    return 2"
   ]
  },
  {
   "cell_type": "code",
   "execution_count": null,
   "id": "af85d77e",
   "metadata": {},
   "outputs": [
    {
     "name": "stdout",
     "output_type": "stream",
     "text": [
      "2\n"
     ]
    }
   ],
   "source": [
    "# Test cases\n",
    "x_n = np.array([[1], [2]])\n",
    "d = 2\n",
    "mu_1 = np.array([[0], [0]])\n",
    "epsilon_1 = np.array([[1, 0], [0, 1]])\n",
    "mu_2 = np.array([[3], [3]])\n",
    "epsilon_2 = np.array([[1, 0], [0, 1]])\n",
    "print(maximum_likelihood(x_n, d, mu_1, epsilon_1, mu_2, epsilon_2))"
   ]
  },
  {
   "cell_type": "code",
   "execution_count": null,
   "id": "dff2642c",
   "metadata": {},
   "outputs": [],
   "source": []
  },
  {
   "cell_type": "code",
   "execution_count": null,
   "id": "96dbdc2c",
   "metadata": {},
   "outputs": [],
   "source": []
  }
 ],
 "metadata": {
  "kernelspec": {
   "display_name": ".venv",
   "language": "python",
   "name": "python3"
  },
  "language_info": {
   "codemirror_mode": {
    "name": "ipython",
    "version": 3
   },
   "file_extension": ".py",
   "mimetype": "text/x-python",
   "name": "python",
   "nbconvert_exporter": "python",
   "pygments_lexer": "ipython3",
   "version": "3.13.7"
  }
 },
 "nbformat": 4,
 "nbformat_minor": 5
}
